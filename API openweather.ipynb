{
 "cells": [
  {
   "cell_type": "code",
   "execution_count": 102,
   "metadata": {},
   "outputs": [
    {
     "name": "stdout",
     "output_type": "stream",
     "text": [
      "200\n",
      "{'lat': 45.1876, 'lon': 5.7049, 'timezone': 'Europe/Paris', 'timezone_offset': 7200, 'current': {'dt': 1619049600, 'sunrise': 1619066399, 'sunset': 1619116259, 'temp': 10.19, 'feels_like': 9.42, 'pressure': 1019, 'humidity': 88, 'dew_point': 8.29, 'uvi': 5.56, 'clouds': 38, 'wind_speed': 0.53, 'wind_deg': 81, 'wind_gust': 0.78, 'weather': [{'id': 802, 'main': 'Clouds', 'description': 'partiellement nuageux', 'icon': '03n'}]}, 'hourly': [{'dt': 1619049600, 'temp': 10.19, 'feels_like': 9.42, 'pressure': 1019, 'humidity': 88, 'dew_point': 8.29, 'clouds': 38, 'wind_speed': 0.53, 'wind_deg': 81, 'wind_gust': 0.78, 'weather': [{'id': 802, 'main': 'Clouds', 'description': 'partiellement nuageux', 'icon': '03n'}]}, {'dt': 1619053200, 'temp': 10.19, 'feels_like': 9.42, 'pressure': 1019, 'humidity': 88, 'dew_point': 8.29, 'clouds': 38, 'wind_speed': 0.53, 'wind_deg': 81, 'wind_gust': 0.78, 'weather': [{'id': 802, 'main': 'Clouds', 'description': 'partiellement nuageux', 'icon': '03n'}]}, {'dt': 1619056800, 'temp': 10.19, 'feels_like': 9.42, 'pressure': 1019, 'humidity': 88, 'dew_point': 8.29, 'clouds': 38, 'wind_speed': 0.53, 'wind_deg': 81, 'wind_gust': 0.78, 'weather': [{'id': 802, 'main': 'Clouds', 'description': 'partiellement nuageux', 'icon': '03n'}]}, {'dt': 1619060400, 'temp': 10.19, 'feels_like': 9.42, 'pressure': 1019, 'humidity': 88, 'dew_point': 8.29, 'clouds': 38, 'wind_speed': 0.53, 'wind_deg': 81, 'wind_gust': 0.78, 'weather': [{'id': 802, 'main': 'Clouds', 'description': 'partiellement nuageux', 'icon': '03n'}]}, {'dt': 1619064000, 'temp': 10.19, 'feels_like': 9.42, 'pressure': 1019, 'humidity': 88, 'dew_point': 8.29, 'clouds': 38, 'wind_speed': 0.53, 'wind_deg': 81, 'wind_gust': 0.78, 'weather': [{'id': 802, 'main': 'Clouds', 'description': 'partiellement nuageux', 'icon': '03n'}]}, {'dt': 1619067600, 'temp': 10.19, 'feels_like': 9.42, 'pressure': 1019, 'humidity': 88, 'dew_point': 8.29, 'clouds': 38, 'wind_speed': 0.53, 'wind_deg': 81, 'wind_gust': 0.78, 'weather': [{'id': 802, 'main': 'Clouds', 'description': 'partiellement nuageux', 'icon': '03d'}]}, {'dt': 1619071200, 'temp': 10.19, 'feels_like': 9.42, 'pressure': 1019, 'humidity': 88, 'dew_point': 8.29, 'clouds': 38, 'wind_speed': 0.53, 'wind_deg': 81, 'wind_gust': 0.78, 'weather': [{'id': 802, 'main': 'Clouds', 'description': 'partiellement nuageux', 'icon': '03d'}]}, {'dt': 1619074800, 'temp': 11.86, 'feels_like': 11.07, 'pressure': 1019, 'humidity': 80, 'dew_point': 8.52, 'clouds': 46, 'wind_speed': 0.65, 'wind_deg': 15, 'wind_gust': 1.13, 'weather': [{'id': 802, 'main': 'Clouds', 'description': 'partiellement nuageux', 'icon': '03d'}]}, {'dt': 1619078400, 'temp': 13.55, 'feels_like': 12.3, 'pressure': 1018, 'humidity': 72, 'dew_point': 8.61, 'clouds': 41, 'wind_speed': 1.33, 'wind_deg': 356, 'wind_gust': 1.92, 'weather': [{'id': 802, 'main': 'Clouds', 'description': 'partiellement nuageux', 'icon': '03d'}]}, {'dt': 1619082000, 'temp': 15.24, 'feels_like': 13.58, 'pressure': 1018, 'humidity': 62, 'dew_point': 8.01, 'clouds': 35, 'wind_speed': 1.71, 'wind_deg': 348, 'wind_gust': 1.84, 'weather': [{'id': 802, 'main': 'Clouds', 'description': 'partiellement nuageux', 'icon': '03d'}]}, {'dt': 1619085600, 'temp': 16.75, 'feels_like': 14.92, 'pressure': 1018, 'humidity': 54, 'dew_point': 7.4, 'clouds': 31, 'wind_speed': 1.75, 'wind_deg': 338, 'wind_gust': 1.73, 'weather': [{'id': 802, 'main': 'Clouds', 'description': 'partiellement nuageux', 'icon': '03d'}]}, {'dt': 1619089200, 'temp': 17.35, 'feels_like': 15.41, 'pressure': 1017, 'humidity': 51, 'dew_point': 7.12, 'clouds': 37, 'wind_speed': 1.81, 'wind_deg': 323, 'wind_gust': 1.88, 'weather': [{'id': 802, 'main': 'Clouds', 'description': 'partiellement nuageux', 'icon': '03d'}]}, {'dt': 1619092800, 'temp': 17.02, 'feels_like': 14.91, 'pressure': 1018, 'humidity': 51, 'dew_point': 6.82, 'clouds': 98, 'wind_speed': 1.95, 'wind_deg': 310, 'wind_gust': 1.8, 'weather': [{'id': 804, 'main': 'Clouds', 'description': 'couvert', 'icon': '04d'}]}, {'dt': 1619096400, 'temp': 16.63, 'feels_like': 14.67, 'pressure': 1018, 'humidity': 55, 'dew_point': 7.56, 'clouds': 99, 'wind_speed': 1.98, 'wind_deg': 311, 'wind_gust': 2.04, 'weather': [{'id': 804, 'main': 'Clouds', 'description': 'couvert', 'icon': '04d'}]}, {'dt': 1619100000, 'temp': 16.88, 'feels_like': 15.12, 'pressure': 1017, 'humidity': 55, 'dew_point': 7.79, 'clouds': 98, 'wind_speed': 1.77, 'wind_deg': 318, 'wind_gust': 2.26, 'weather': [{'id': 804, 'main': 'Clouds', 'description': 'couvert', 'icon': '04d'}]}, {'dt': 1619103600, 'temp': 17.42, 'feels_like': 15.71, 'pressure': 1017, 'humidity': 53, 'dew_point': 7.75, 'clouds': 97, 'wind_speed': 1.69, 'wind_deg': 325, 'wind_gust': 2.57, 'weather': [{'id': 804, 'main': 'Clouds', 'description': 'couvert', 'icon': '04d'}]}, {'dt': 1619107200, 'temp': 17.23, 'feels_like': 15.42, 'pressure': 1017, 'humidity': 55, 'dew_point': 8.12, 'clouds': 92, 'wind_speed': 1.96, 'wind_deg': 333, 'wind_gust': 2.94, 'weather': [{'id': 804, 'main': 'Clouds', 'description': 'couvert', 'icon': '04d'}]}, {'dt': 1619110800, 'temp': 16.49, 'feels_like': 11.12, 'pressure': 1016, 'humidity': 42, 'dew_point': 3.55, 'clouds': 0, 'visibility': 10000, 'wind_speed': 5.66, 'wind_deg': 340, 'weather': [{'id': 800, 'main': 'Clear', 'description': 'ciel dégagé', 'icon': '01d'}]}, {'dt': 1619114400, 'temp': 14.71, 'feels_like': 11.56, 'pressure': 1017, 'humidity': 48, 'dew_point': 3.83, 'clouds': 0, 'visibility': 10000, 'wind_speed': 2.57, 'wind_deg': 340, 'weather': [{'id': 800, 'main': 'Clear', 'description': 'ciel dégagé', 'icon': '01d'}]}, {'dt': 1619118000, 'temp': 12.36, 'feels_like': 10.75, 'pressure': 1017, 'humidity': 58, 'dew_point': 4.34, 'clouds': 0, 'visibility': 10000, 'wind_speed': 0.51, 'wind_deg': 0, 'weather': [{'id': 800, 'main': 'Clear', 'description': 'ciel dégagé', 'icon': '01n'}]}, {'dt': 1619121600, 'temp': 10.51, 'feels_like': 8.75, 'pressure': 1018, 'humidity': 62, 'dew_point': 3.55, 'clouds': 0, 'visibility': 10000, 'wind_speed': 0.51, 'wind_deg': 0, 'weather': [{'id': 800, 'main': 'Clear', 'description': 'ciel dégagé', 'icon': '01n'}]}, {'dt': 1619125200, 'temp': 8.86, 'feels_like': 6.44, 'pressure': 1018, 'humidity': 71, 'dew_point': 3.9, 'clouds': 0, 'visibility': 10000, 'wind_speed': 1.54, 'wind_deg': 120, 'weather': [{'id': 800, 'main': 'Clear', 'description': 'ciel dégagé', 'icon': '01n'}]}, {'dt': 1619128800, 'temp': 7.8, 'feels_like': 5.18, 'pressure': 1019, 'humidity': 81, 'dew_point': 4.75, 'clouds': 0, 'visibility': 10000, 'wind_speed': 2.06, 'wind_deg': 110, 'weather': [{'id': 800, 'main': 'Clear', 'description': 'ciel dégagé', 'icon': '01n'}]}, {'dt': 1619132400, 'temp': 7.11, 'feels_like': 4.21, 'pressure': 1019, 'humidity': 87, 'dew_point': 5.1, 'clouds': 0, 'visibility': 10000, 'wind_speed': 2.57, 'wind_deg': 90, 'weather': [{'id': 800, 'main': 'Clear', 'description': 'ciel dégagé', 'icon': '01n'}]}]}\n"
     ]
    }
   ],
   "source": [
    "import datetime\n",
    "import requests as re\n",
    "import pandas as pd\n",
    "import json\n",
    "\n",
    "#api = re.get(\"http://history.openweathermap.org/data/2.5/history/q=Grenoble,FR&units=metric&lang=fr&start=1619222400&end=1619308800&APPID=0\")\n",
    "api = re.get(\"http://api.openweathermap.org/data/2.5/onecall/timemachine?lat=45.187604404569896&lon=5.704903862324499&units=metric&lang=fr&dt=1619049600&APPID=)\n",
    "\n",
    "print(api.status_code)\n",
    "print(api.json())\n"
   ]
  },
  {
   "cell_type": "code",
   "execution_count": 87,
   "metadata": {},
   "outputs": [],
   "source": [
    "with open(\"data_file_1.json\", \"w\") as write_file:\n",
    "    json.dump(data_dict, write_file)"
   ]
  },
  {
   "cell_type": "code",
   "execution_count": 106,
   "metadata": {},
   "outputs": [
    {
     "name": "stdout",
     "output_type": "stream",
     "text": [
      "[{'dt': 1619449200, 'main': {'temp': 288.88, 'feels_like': 286.46, 'pressure': 1008, 'humidity': 82, 'temp_min': 287.15, 'temp_max': 290.37}, 'wind': {'speed': 4.63, 'deg': 40}, 'clouds': {'all': 75}, 'weather': [{'id': 803, 'main': 'Clouds', 'description': 'broken clouds', 'icon': '04d'}]}, {'dt': 1619452800, 'main': {'temp': 286.71, 'feels_like': 284.49, 'pressure': 1008, 'humidity': 77, 'temp_min': 284.26, 'temp_max': 288.71}, 'wind': {'speed': 3.09, 'deg': 180}, 'clouds': {'all': 100}, 'weather': [{'id': 804, 'main': 'Clouds', 'description': 'overcast clouds', 'icon': '04d'}]}, {'dt': 1619456400, 'main': {'temp': 286.22, 'feels_like': 283.76, 'pressure': 1007, 'humidity': 82, 'temp_min': 283.71, 'temp_max': 288.71}, 'wind': {'speed': 3.6, 'deg': 80}, 'clouds': {'all': 0}, 'weather': [{'id': 800, 'main': 'Clear', 'description': 'clear sky', 'icon': '01d'}]}, {'dt': 1619460000, 'main': {'temp': 285.55, 'feels_like': 284.65, 'pressure': 1006, 'humidity': 88, 'temp_min': 283.15, 'temp_max': 288.15}, 'wind': {'speed': 1.54, 'deg': 60}, 'clouds': {'all': 0}, 'weather': [{'id': 800, 'main': 'Clear', 'description': 'clear sky', 'icon': '01d'}]}, {'dt': 1619463600, 'main': {'temp': 285.34, 'feels_like': 284.74, 'pressure': 1007, 'humidity': 88, 'temp_min': 283.15, 'temp_max': 287.59}, 'wind': {'speed': 1.03, 'deg': 240}, 'clouds': {'all': 0}, 'weather': [{'id': 800, 'main': 'Clear', 'description': 'clear sky', 'icon': '01n'}]}, {'dt': 1619467200, 'main': {'temp': 285.3, 'feels_like': 284.64, 'pressure': 1007, 'humidity': 87, 'temp_min': 283.71, 'temp_max': 287.59}, 'wind': {'speed': 1.03, 'deg': 120}, 'clouds': {'all': 0}, 'weather': [{'id': 800, 'main': 'Clear', 'description': 'clear sky', 'icon': '01n'}]}, {'dt': 1619470800, 'main': {'temp': 285.08, 'feels_like': 283.96, 'pressure': 1007, 'humidity': 94, 'temp_min': 283.15, 'temp_max': 287.59}, 'wind': {'speed': 2.06, 'deg': 350}, 'clouds': {'all': 0}, 'weather': [{'id': 800, 'main': 'Clear', 'description': 'clear sky', 'icon': '01n'}]}, {'dt': 1619474400, 'main': {'temp': 284.87, 'feels_like': 283.37, 'pressure': 1007, 'humidity': 87, 'temp_min': 282.59, 'temp_max': 287.59}, 'wind': {'speed': 2.06, 'deg': 60}, 'clouds': {'all': 0}, 'weather': [{'id': 800, 'main': 'Clear', 'description': 'clear sky', 'icon': '01n'}]}, {'dt': 1619478000, 'main': {'temp': 284.82, 'feels_like': 282.59, 'pressure': 1007, 'humidity': 87, 'temp_min': 282.59, 'temp_max': 287.59}, 'wind': {'speed': 3.09, 'deg': 60}, 'clouds': {'all': 0}, 'weather': [{'id': 500, 'main': 'Rain', 'description': 'light rain', 'icon': '10n'}], 'rain': {'1h': 0.22}}, {'dt': 1619481600, 'main': {'temp': 284.4, 'feels_like': 283.41, 'pressure': 1006, 'humidity': 93, 'temp_min': 282.59, 'temp_max': 287.04}, 'wind': {'speed': 1.54, 'deg': 120}, 'clouds': {'all': 0}, 'weather': [{'id': 500, 'main': 'Rain', 'description': 'light rain', 'icon': '10n'}], 'rain': {'1h': 0.24}}, {'dt': 1619485200, 'main': {'temp': 284.18, 'feels_like': 283.13, 'pressure': 1006, 'humidity': 93, 'temp_min': 282.04, 'temp_max': 287.04}, 'wind': {'speed': 1.54, 'deg': 70}, 'clouds': {'all': 0}, 'weather': [{'id': 800, 'main': 'Clear', 'description': 'clear sky', 'icon': '01n'}]}, {'dt': 1619488800, 'main': {'temp': 283.93, 'feels_like': 282.09, 'pressure': 1006, 'humidity': 93, 'temp_min': 282.04, 'temp_max': 287.04}, 'wind': {'speed': 2.57, 'deg': 80}, 'clouds': {'all': 90}, 'weather': [{'id': 804, 'main': 'Clouds', 'description': 'overcast clouds', 'icon': '04n'}]}, {'dt': 1619492400, 'main': {'temp': 283.98, 'feels_like': 282.88, 'pressure': 1006, 'humidity': 93, 'temp_min': 282.04, 'temp_max': 286.48}, 'wind': {'speed': 1.54, 'deg': 80}, 'clouds': {'all': 100}, 'weather': [{'id': 804, 'main': 'Clouds', 'description': 'overcast clouds', 'icon': '04n'}]}, {'dt': 1619496000, 'main': {'temp': 283.76, 'feels_like': 282.6, 'pressure': 1006, 'humidity': 93, 'temp_min': 281.48, 'temp_max': 286.48}, 'wind': {'speed': 1.54, 'deg': 350}, 'clouds': {'all': 90}, 'weather': [{'id': 804, 'main': 'Clouds', 'description': 'overcast clouds', 'icon': '04n'}]}, {'dt': 1619499600, 'main': {'temp': 283.78, 'feels_like': 283.35, 'pressure': 1006, 'humidity': 93, 'temp_min': 281.48, 'temp_max': 286.48}, 'wind': {'speed': 0.51, 'deg': 100}, 'clouds': {'all': 75}, 'weather': [{'id': 803, 'main': 'Clouds', 'description': 'broken clouds', 'icon': '04d'}]}, {'dt': 1619503200, 'main': {'temp': 284.2, 'feels_like': 283.51, 'pressure': 1006, 'humidity': 93, 'temp_min': 282.04, 'temp_max': 287.04}, 'wind': {'speed': 1.03, 'deg': 50}, 'clouds': {'all': 90}, 'weather': [{'id': 804, 'main': 'Clouds', 'description': 'overcast clouds', 'icon': '04d'}]}, {'dt': 1619506800, 'main': {'temp': 284.71, 'feels_like': 284.12, 'pressure': 1006, 'humidity': 100, 'temp_min': 282.59, 'temp_max': 288.15}, 'wind': {'speed': 1.54, 'deg': 70}, 'clouds': {'all': 90}, 'weather': [{'id': 804, 'main': 'Clouds', 'description': 'overcast clouds', 'icon': '04d'}]}, {'dt': 1619510400, 'main': {'temp': 285.06, 'feels_like': 284.47, 'pressure': 1006, 'humidity': 82, 'temp_min': 283.71, 'temp_max': 286.15}, 'wind': {'speed': 0.51, 'deg': 0}, 'clouds': {'all': 75}, 'weather': [{'id': 803, 'main': 'Clouds', 'description': 'broken clouds', 'icon': '04d'}]}, {'dt': 1619514000, 'main': {'temp': 285.81, 'feels_like': 284.8, 'pressure': 1006, 'humidity': 77, 'temp_min': 284.82, 'temp_max': 287.15}, 'wind': {'speed': 1.03, 'deg': 0}, 'clouds': {'all': 0}, 'weather': [{'id': 800, 'main': 'Clear', 'description': 'clear sky', 'icon': '01d'}]}, {'dt': 1619517600, 'main': {'temp': 286.57, 'feels_like': 284.89, 'pressure': 1006, 'humidity': 67, 'temp_min': 284.82, 'temp_max': 289.15}, 'wind': {'speed': 1.54, 'deg': 250}, 'clouds': {'all': 75}, 'weather': [{'id': 803, 'main': 'Clouds', 'description': 'broken clouds', 'icon': '04d'}]}, {'dt': 1619521200, 'main': {'temp': 287.38, 'feels_like': 285.45, 'pressure': 1005, 'humidity': 59, 'temp_min': 284.82, 'temp_max': 291.15}, 'wind': {'speed': 1.54, 'deg': 0}, 'clouds': {'all': 40}, 'weather': [{'id': 802, 'main': 'Clouds', 'description': 'scattered clouds', 'icon': '03d'}]}, {'dt': 1619524800, 'main': {'temp': 288.11, 'feels_like': 285.22, 'pressure': 1005, 'humidity': 52, 'temp_min': 285.37, 'temp_max': 292.15}, 'wind': {'speed': 2.57, 'deg': 280}, 'clouds': {'all': 75}, 'weather': [{'id': 803, 'main': 'Clouds', 'description': 'broken clouds', 'icon': '04d'}]}, {'dt': 1619528400, 'main': {'temp': 289.42, 'feels_like': 287.51, 'pressure': 1004, 'humidity': 52, 'temp_min': 286.48, 'temp_max': 292.15}, 'wind': {'speed': 1.54, 'deg': 0}, 'clouds': {'all': 90}, 'weather': [{'id': 804, 'main': 'Clouds', 'description': 'overcast clouds', 'icon': '04d'}]}, {'dt': 1619532000, 'main': {'temp': 289.82, 'feels_like': 287.99, 'pressure': 1004, 'humidity': 52, 'temp_min': 287.04, 'temp_max': 292.15}, 'wind': {'speed': 1.54, 'deg': 0}, 'clouds': {'all': 90}, 'weather': [{'id': 804, 'main': 'Clouds', 'description': 'overcast clouds', 'icon': '04d'}]}]\n"
     ]
    }
   ],
   "source": [
    "print(data_dict['list'])"
   ]
  },
  {
   "cell_type": "code",
   "execution_count": 107,
   "metadata": {},
   "outputs": [],
   "source": [
    "df1 = pd.json_normalize(data_dict['list'])"
   ]
  },
  {
   "cell_type": "code",
   "execution_count": 108,
   "metadata": {},
   "outputs": [
    {
     "data": {
      "text/plain": [
       "0     1619449200\n",
       "1     1619452800\n",
       "2     1619456400\n",
       "3     1619460000\n",
       "4     1619463600\n",
       "5     1619467200\n",
       "6     1619470800\n",
       "7     1619474400\n",
       "8     1619478000\n",
       "9     1619481600\n",
       "10    1619485200\n",
       "11    1619488800\n",
       "12    1619492400\n",
       "13    1619496000\n",
       "14    1619499600\n",
       "15    1619503200\n",
       "16    1619506800\n",
       "17    1619510400\n",
       "18    1619514000\n",
       "19    1619517600\n",
       "20    1619521200\n",
       "21    1619524800\n",
       "22    1619528400\n",
       "23    1619532000\n",
       "Name: dt, dtype: int64"
      ]
     },
     "execution_count": 108,
     "metadata": {},
     "output_type": "execute_result"
    }
   ],
   "source": [
    "df1.dt"
   ]
  },
  {
   "cell_type": "code",
   "execution_count": 109,
   "metadata": {},
   "outputs": [],
   "source": [
    "df1.dt = pd.to_datetime(df1['dt'],unit='s') # convertion unixtime en datetime"
   ]
  },
  {
   "cell_type": "code",
   "execution_count": 91,
   "metadata": {},
   "outputs": [
    {
     "data": {
      "text/plain": [
       "0    2021-04-26 15:00:00\n",
       "1    2021-04-26 16:00:00\n",
       "2    2021-04-26 17:00:00\n",
       "3    2021-04-26 18:00:00\n",
       "4    2021-04-26 19:00:00\n",
       "5    2021-04-26 20:00:00\n",
       "6    2021-04-26 21:00:00\n",
       "7    2021-04-26 22:00:00\n",
       "8    2021-04-26 23:00:00\n",
       "9    2021-04-27 00:00:00\n",
       "10   2021-04-27 01:00:00\n",
       "11   2021-04-27 02:00:00\n",
       "12   2021-04-27 03:00:00\n",
       "13   2021-04-27 04:00:00\n",
       "14   2021-04-27 05:00:00\n",
       "15   2021-04-27 06:00:00\n",
       "16   2021-04-27 07:00:00\n",
       "17   2021-04-27 08:00:00\n",
       "18   2021-04-27 09:00:00\n",
       "19   2021-04-27 10:00:00\n",
       "20   2021-04-27 11:00:00\n",
       "21   2021-04-27 12:00:00\n",
       "22   2021-04-27 13:00:00\n",
       "23   2021-04-27 14:00:00\n",
       "Name: dt, dtype: datetime64[ns]"
      ]
     },
     "execution_count": 91,
     "metadata": {},
     "output_type": "execute_result"
    }
   ],
   "source": [
    "df1.dt"
   ]
  },
  {
   "cell_type": "code",
   "execution_count": null,
   "metadata": {},
   "outputs": [],
   "source": []
  }
 ],
 "metadata": {
  "kernelspec": {
   "display_name": "Python 3",
   "language": "python",
   "name": "python3"
  },
  "language_info": {
   "codemirror_mode": {
    "name": "ipython",
    "version": 3
   },
   "file_extension": ".py",
   "mimetype": "text/x-python",
   "name": "python",
   "nbconvert_exporter": "python",
   "pygments_lexer": "ipython3",
   "version": "3.8.7"
  }
 },
 "nbformat": 4,
 "nbformat_minor": 4
}
