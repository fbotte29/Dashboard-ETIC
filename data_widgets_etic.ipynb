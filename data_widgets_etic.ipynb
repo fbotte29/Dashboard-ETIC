{
 "cells": [
  {
   "cell_type": "code",
   "execution_count": 6,
   "id": "judicial-naples",
   "metadata": {},
   "outputs": [],
   "source": [
    "import datetime\n",
    "import io\n",
    "import locale\n",
    "import pandas as pd\n",
    "import matplotlib.pyplot as plt\n",
    "import ipywidgets as widgets\n",
    "from IPython.display import display\n",
    "\n",
    "# locale.setlocale(locale.LC_ALL, 'fr_FR.UTF-8')\n",
    "# plt.style.use('seaborn-whitegrid')\n",
    "plt.style.use(['seaborn-whitegrid'])"
   ]
  },
  {
   "cell_type": "code",
   "execution_count": 7,
   "id": "integrated-story",
   "metadata": {},
   "outputs": [],
   "source": [
    "def create_df(file_name):\n",
    "    df = pd.read_csv(file_name)\n",
    "    df = df.astype({'Time' : 'datetime64'})\n",
    "    df = df.set_index(\"Time\")\n",
    "    return df\n",
    "\n",
    "try:\n",
    "    df = create_df(\"temperatures_eticok.csv\")\n",
    "except FileNotFoundError:\n",
    "    print(\"Fichier CSV introuvable\")"
   ]
  },
  {
   "cell_type": "code",
   "execution_count": 8,
   "id": "coral-purple",
   "metadata": {},
   "outputs": [
    {
     "data": {
      "application/vnd.jupyter.widget-view+json": {
       "model_id": "def9a2073d0c4546b33bead438d530da",
       "version_major": 2,
       "version_minor": 0
      },
      "text/plain": [
       "DatePicker(value=datetime.datetime(2020, 7, 3, 11, 30), description='Date début')"
      ]
     },
     "metadata": {},
     "output_type": "display_data"
    },
    {
     "data": {
      "application/vnd.jupyter.widget-view+json": {
       "model_id": "075ac30feddc4462b1a759955df06517",
       "version_major": 2,
       "version_minor": 0
      },
      "text/plain": [
       "DatePicker(value=datetime.datetime(2020, 10, 3, 11, 30), description='Date fin')"
      ]
     },
     "metadata": {},
     "output_type": "display_data"
    },
    {
     "data": {
      "application/vnd.jupyter.widget-view+json": {
       "model_id": "2f7a17b525d2421390109d00cf4aa254",
       "version_major": 2,
       "version_minor": 0
      },
      "text/plain": [
       "Select(description='Batiment :', options=('COOP_CWK_R1', 'COOP_ENER_R2', 'COOP_ENERC_MEZZ', 'COOP_ENERC_URSC',…"
      ]
     },
     "metadata": {},
     "output_type": "display_data"
    }
   ],
   "source": [
    "begin_date = widgets.DatePicker(\n",
    "    description='Date début',\n",
    "    disabled=False,\n",
    "    value = datetime.datetime(2020, 7, 3, 11, 30, 0)\n",
    ")\n",
    "end_date = widgets.DatePicker(\n",
    "    description='Date fin',\n",
    "    disabled=False,\n",
    "    value = datetime.datetime(2020, 10, 3, 11, 30, 0)\n",
    ")\n",
    "batiment = widgets.Select(\n",
    "    options=df.columns,\n",
    "    description='Batiment :',\n",
    "    disabled=False\n",
    ")\n",
    "display(begin_date, end_date, batiment)"
   ]
  },
  {
   "cell_type": "code",
   "execution_count": 11,
   "id": "freelance-fundamentals",
   "metadata": {},
   "outputs": [],
   "source": [
    "def select_data(i):\n",
    "    begin_date_value = begin_date.value\n",
    "    end_date_value = begin_date.value + datetime.timedelta(days=i)\n",
    "    select_df = df.loc[begin_date_value:end_date_value, batiment.value]\n",
    "    plt.figure(figsize=(20,10))\n",
    "    plt.title(\n",
    "    f\"\"\"Température à {batiment.value} entre le {begin_date_value.strftime(\"%d %B %Y\")} et le {end_date_value.strftime(\"%d %B %Y\")}\"\"\",\n",
    "    fontsize=20,\n",
    "    )\n",
    "    ax = select_df.plot()\n",
    "    ax.set_ylabel(\"Température en °C\", fontsize=20)\n",
    "    ax.set_xlabel(\"Date\", fontsize=20)\n",
    "    plt.axhline(y = 30, color = 'r', linestyle = 'dashed', label = 'seuil limite 30')\n",
    "    plt.axhline(y = 28, color = 'g', linestyle = 'dashed', label = \"seuil inconfort 28\")\n",
    "    plt.legend(bbox_to_anchor = (1.0, 1), loc = 'best')\n",
    "    plt.tick_params(axis='both', which='major', labelsize=16)\n",
    "    return select_df"
   ]
  },
  {
   "cell_type": "code",
   "execution_count": 12,
   "id": "numerical-relation",
   "metadata": {},
   "outputs": [
    {
     "data": {
      "application/vnd.jupyter.widget-view+json": {
       "model_id": "9fb9caa2795447129185426590b8db29",
       "version_major": 2,
       "version_minor": 0
      },
      "text/plain": [
       "interactive(children=(Play(value=0, description='i', max=27), Output()), _dom_classes=('widget-interact',))"
      ]
     },
     "metadata": {},
     "output_type": "display_data"
    }
   ],
   "source": [
    "play = widgets.Play(\n",
    "    value=0,\n",
    "    min=0,\n",
    "    max=(end_date.value-begin_date.value).days,\n",
    "    step=1,\n",
    "    interval=100,\n",
    "    disabled=False,\n",
    ")\n",
    "widgets.interactive(select_data, i=play)"
   ]
  },
  {
   "cell_type": "code",
   "execution_count": null,
   "id": "adequate-spain",
   "metadata": {},
   "outputs": [],
   "source": []
  },
  {
   "cell_type": "code",
   "execution_count": null,
   "id": "contrary-handy",
   "metadata": {},
   "outputs": [],
   "source": []
  },
  {
   "cell_type": "code",
   "execution_count": null,
   "id": "medieval-premises",
   "metadata": {},
   "outputs": [],
   "source": []
  }
 ],
 "metadata": {
  "kernelspec": {
   "display_name": "Python 3",
   "language": "python",
   "name": "python3"
  },
  "language_info": {
   "codemirror_mode": {
    "name": "ipython",
    "version": 3
   },
   "file_extension": ".py",
   "mimetype": "text/x-python",
   "name": "python",
   "nbconvert_exporter": "python",
   "pygments_lexer": "ipython3",
   "version": "3.8.7"
  }
 },
 "nbformat": 4,
 "nbformat_minor": 5
}
