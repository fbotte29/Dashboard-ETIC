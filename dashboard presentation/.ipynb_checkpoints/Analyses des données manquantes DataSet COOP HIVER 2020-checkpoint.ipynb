{
 "cells": [
  {
   "cell_type": "markdown",
   "id": "f599db25",
   "metadata": {},
   "source": [
    "# Analyse des données Espaces COOP HIVER 2020"
   ]
  },
  {
   "cell_type": "code",
   "execution_count": 2,
   "id": "3a400cd3",
   "metadata": {},
   "outputs": [],
   "source": [
    "import pandas as pd\n",
    "import seaborn as sns\n",
    "\n",
    "\n",
    "df = pd.read_csv(\"temperatures_COOP_Hiver2020.csv\")"
   ]
  },
  {
   "cell_type": "markdown",
   "id": "713f7d30",
   "metadata": {},
   "source": [
    "## Exploration du jeu de données "
   ]
  },
  {
   "cell_type": "code",
   "execution_count": 3,
   "id": "298d919d",
   "metadata": {},
   "outputs": [
    {
     "data": {
      "text/html": [
       "<div>\n",
       "<style scoped>\n",
       "    .dataframe tbody tr th:only-of-type {\n",
       "        vertical-align: middle;\n",
       "    }\n",
       "\n",
       "    .dataframe tbody tr th {\n",
       "        vertical-align: top;\n",
       "    }\n",
       "\n",
       "    .dataframe thead th {\n",
       "        text-align: right;\n",
       "    }\n",
       "</style>\n",
       "<table border=\"1\" class=\"dataframe\">\n",
       "  <thead>\n",
       "    <tr style=\"text-align: right;\">\n",
       "      <th></th>\n",
       "      <th>COOP_CWK_R1</th>\n",
       "      <th>COOP_Cuisine_R1</th>\n",
       "      <th>COOP_ENERC_MEZZ</th>\n",
       "      <th>COOP_ENER_R2</th>\n",
       "      <th>COOP_Péniche_R1</th>\n",
       "      <th>T° EXT</th>\n",
       "    </tr>\n",
       "  </thead>\n",
       "  <tbody>\n",
       "    <tr>\n",
       "      <th>count</th>\n",
       "      <td>8544.000000</td>\n",
       "      <td>8213.000000</td>\n",
       "      <td>7812.000000</td>\n",
       "      <td>8545.000000</td>\n",
       "      <td>8877.000000</td>\n",
       "      <td>8936.000000</td>\n",
       "    </tr>\n",
       "    <tr>\n",
       "      <th>mean</th>\n",
       "      <td>20.505735</td>\n",
       "      <td>20.384817</td>\n",
       "      <td>19.870072</td>\n",
       "      <td>18.608192</td>\n",
       "      <td>20.384533</td>\n",
       "      <td>19.668812</td>\n",
       "    </tr>\n",
       "    <tr>\n",
       "      <th>std</th>\n",
       "      <td>0.870808</td>\n",
       "      <td>0.739189</td>\n",
       "      <td>1.117712</td>\n",
       "      <td>1.325493</td>\n",
       "      <td>0.854411</td>\n",
       "      <td>2.827103</td>\n",
       "    </tr>\n",
       "    <tr>\n",
       "      <th>min</th>\n",
       "      <td>18.000000</td>\n",
       "      <td>18.500000</td>\n",
       "      <td>17.000000</td>\n",
       "      <td>15.000000</td>\n",
       "      <td>18.000000</td>\n",
       "      <td>11.500000</td>\n",
       "    </tr>\n",
       "    <tr>\n",
       "      <th>25%</th>\n",
       "      <td>20.000000</td>\n",
       "      <td>20.000000</td>\n",
       "      <td>19.000000</td>\n",
       "      <td>18.000000</td>\n",
       "      <td>20.000000</td>\n",
       "      <td>18.000000</td>\n",
       "    </tr>\n",
       "    <tr>\n",
       "      <th>50%</th>\n",
       "      <td>20.500000</td>\n",
       "      <td>20.500000</td>\n",
       "      <td>20.000000</td>\n",
       "      <td>18.500000</td>\n",
       "      <td>20.500000</td>\n",
       "      <td>20.500000</td>\n",
       "    </tr>\n",
       "    <tr>\n",
       "      <th>75%</th>\n",
       "      <td>21.000000</td>\n",
       "      <td>21.000000</td>\n",
       "      <td>20.500000</td>\n",
       "      <td>19.500000</td>\n",
       "      <td>21.000000</td>\n",
       "      <td>21.500000</td>\n",
       "    </tr>\n",
       "    <tr>\n",
       "      <th>max</th>\n",
       "      <td>24.500000</td>\n",
       "      <td>25.000000</td>\n",
       "      <td>24.500000</td>\n",
       "      <td>24.000000</td>\n",
       "      <td>25.500000</td>\n",
       "      <td>26.500000</td>\n",
       "    </tr>\n",
       "  </tbody>\n",
       "</table>\n",
       "</div>"
      ],
      "text/plain": [
       "       COOP_CWK_R1  COOP_Cuisine_R1  COOP_ENERC_MEZZ  COOP_ENER_R2  \\\n",
       "count  8544.000000      8213.000000      7812.000000   8545.000000   \n",
       "mean     20.505735        20.384817        19.870072     18.608192   \n",
       "std       0.870808         0.739189         1.117712      1.325493   \n",
       "min      18.000000        18.500000        17.000000     15.000000   \n",
       "25%      20.000000        20.000000        19.000000     18.000000   \n",
       "50%      20.500000        20.500000        20.000000     18.500000   \n",
       "75%      21.000000        21.000000        20.500000     19.500000   \n",
       "max      24.500000        25.000000        24.500000     24.000000   \n",
       "\n",
       "       COOP_Péniche_R1       T° EXT  \n",
       "count      8877.000000  8936.000000  \n",
       "mean         20.384533    19.668812  \n",
       "std           0.854411     2.827103  \n",
       "min          18.000000    11.500000  \n",
       "25%          20.000000    18.000000  \n",
       "50%          20.500000    20.500000  \n",
       "75%          21.000000    21.500000  \n",
       "max          25.500000    26.500000  "
      ]
     },
     "execution_count": 3,
     "metadata": {},
     "output_type": "execute_result"
    }
   ],
   "source": [
    "df.describe()"
   ]
  },
  {
   "cell_type": "markdown",
   "id": "7ba2286c",
   "metadata": {},
   "source": [
    "## mise en évidence de données manquantes"
   ]
  },
  {
   "cell_type": "code",
   "execution_count": 4,
   "id": "bc8cadd3",
   "metadata": {},
   "outputs": [
    {
     "data": {
      "text/html": [
       "<div>\n",
       "<style scoped>\n",
       "    .dataframe tbody tr th:only-of-type {\n",
       "        vertical-align: middle;\n",
       "    }\n",
       "\n",
       "    .dataframe tbody tr th {\n",
       "        vertical-align: top;\n",
       "    }\n",
       "\n",
       "    .dataframe thead th {\n",
       "        text-align: right;\n",
       "    }\n",
       "</style>\n",
       "<table border=\"1\" class=\"dataframe\">\n",
       "  <thead>\n",
       "    <tr style=\"text-align: right;\">\n",
       "      <th></th>\n",
       "      <th>Time</th>\n",
       "      <th>COOP_CWK_R1</th>\n",
       "      <th>COOP_Cuisine_R1</th>\n",
       "      <th>COOP_ENERC_MEZZ</th>\n",
       "      <th>COOP_ENER_R2</th>\n",
       "      <th>COOP_Péniche_R1</th>\n",
       "      <th>T° EXT</th>\n",
       "    </tr>\n",
       "  </thead>\n",
       "  <tbody>\n",
       "    <tr>\n",
       "      <th>0</th>\n",
       "      <td>False</td>\n",
       "      <td>True</td>\n",
       "      <td>True</td>\n",
       "      <td>True</td>\n",
       "      <td>True</td>\n",
       "      <td>False</td>\n",
       "      <td>False</td>\n",
       "    </tr>\n",
       "    <tr>\n",
       "      <th>1</th>\n",
       "      <td>False</td>\n",
       "      <td>True</td>\n",
       "      <td>True</td>\n",
       "      <td>True</td>\n",
       "      <td>True</td>\n",
       "      <td>False</td>\n",
       "      <td>False</td>\n",
       "    </tr>\n",
       "    <tr>\n",
       "      <th>2</th>\n",
       "      <td>False</td>\n",
       "      <td>True</td>\n",
       "      <td>True</td>\n",
       "      <td>True</td>\n",
       "      <td>True</td>\n",
       "      <td>False</td>\n",
       "      <td>False</td>\n",
       "    </tr>\n",
       "    <tr>\n",
       "      <th>3</th>\n",
       "      <td>False</td>\n",
       "      <td>True</td>\n",
       "      <td>True</td>\n",
       "      <td>True</td>\n",
       "      <td>True</td>\n",
       "      <td>False</td>\n",
       "      <td>False</td>\n",
       "    </tr>\n",
       "    <tr>\n",
       "      <th>4</th>\n",
       "      <td>False</td>\n",
       "      <td>True</td>\n",
       "      <td>True</td>\n",
       "      <td>True</td>\n",
       "      <td>True</td>\n",
       "      <td>False</td>\n",
       "      <td>False</td>\n",
       "    </tr>\n",
       "    <tr>\n",
       "      <th>...</th>\n",
       "      <td>...</td>\n",
       "      <td>...</td>\n",
       "      <td>...</td>\n",
       "      <td>...</td>\n",
       "      <td>...</td>\n",
       "      <td>...</td>\n",
       "      <td>...</td>\n",
       "    </tr>\n",
       "    <tr>\n",
       "      <th>8931</th>\n",
       "      <td>False</td>\n",
       "      <td>False</td>\n",
       "      <td>False</td>\n",
       "      <td>True</td>\n",
       "      <td>False</td>\n",
       "      <td>True</td>\n",
       "      <td>False</td>\n",
       "    </tr>\n",
       "    <tr>\n",
       "      <th>8932</th>\n",
       "      <td>False</td>\n",
       "      <td>False</td>\n",
       "      <td>False</td>\n",
       "      <td>True</td>\n",
       "      <td>False</td>\n",
       "      <td>True</td>\n",
       "      <td>False</td>\n",
       "    </tr>\n",
       "    <tr>\n",
       "      <th>8933</th>\n",
       "      <td>False</td>\n",
       "      <td>False</td>\n",
       "      <td>False</td>\n",
       "      <td>True</td>\n",
       "      <td>False</td>\n",
       "      <td>True</td>\n",
       "      <td>False</td>\n",
       "    </tr>\n",
       "    <tr>\n",
       "      <th>8934</th>\n",
       "      <td>False</td>\n",
       "      <td>False</td>\n",
       "      <td>True</td>\n",
       "      <td>True</td>\n",
       "      <td>False</td>\n",
       "      <td>True</td>\n",
       "      <td>False</td>\n",
       "    </tr>\n",
       "    <tr>\n",
       "      <th>8935</th>\n",
       "      <td>False</td>\n",
       "      <td>True</td>\n",
       "      <td>True</td>\n",
       "      <td>True</td>\n",
       "      <td>False</td>\n",
       "      <td>True</td>\n",
       "      <td>False</td>\n",
       "    </tr>\n",
       "  </tbody>\n",
       "</table>\n",
       "<p>8936 rows × 7 columns</p>\n",
       "</div>"
      ],
      "text/plain": [
       "       Time  COOP_CWK_R1  COOP_Cuisine_R1  COOP_ENERC_MEZZ  COOP_ENER_R2  \\\n",
       "0     False         True             True             True          True   \n",
       "1     False         True             True             True          True   \n",
       "2     False         True             True             True          True   \n",
       "3     False         True             True             True          True   \n",
       "4     False         True             True             True          True   \n",
       "...     ...          ...              ...              ...           ...   \n",
       "8931  False        False            False             True         False   \n",
       "8932  False        False            False             True         False   \n",
       "8933  False        False            False             True         False   \n",
       "8934  False        False             True             True         False   \n",
       "8935  False         True             True             True         False   \n",
       "\n",
       "      COOP_Péniche_R1  T° EXT  \n",
       "0               False   False  \n",
       "1               False   False  \n",
       "2               False   False  \n",
       "3               False   False  \n",
       "4               False   False  \n",
       "...               ...     ...  \n",
       "8931             True   False  \n",
       "8932             True   False  \n",
       "8933             True   False  \n",
       "8934             True   False  \n",
       "8935             True   False  \n",
       "\n",
       "[8936 rows x 7 columns]"
      ]
     },
     "execution_count": 4,
     "metadata": {},
     "output_type": "execute_result"
    }
   ],
   "source": [
    "df.isnull()"
   ]
  },
  {
   "cell_type": "code",
   "execution_count": 5,
   "id": "ef7e6107",
   "metadata": {},
   "outputs": [
    {
     "data": {
      "text/html": [
       "<div>\n",
       "<style scoped>\n",
       "    .dataframe tbody tr th:only-of-type {\n",
       "        vertical-align: middle;\n",
       "    }\n",
       "\n",
       "    .dataframe tbody tr th {\n",
       "        vertical-align: top;\n",
       "    }\n",
       "\n",
       "    .dataframe thead th {\n",
       "        text-align: right;\n",
       "    }\n",
       "</style>\n",
       "<table border=\"1\" class=\"dataframe\">\n",
       "  <thead>\n",
       "    <tr style=\"text-align: right;\">\n",
       "      <th></th>\n",
       "      <th>Time</th>\n",
       "      <th>COOP_CWK_R1</th>\n",
       "      <th>COOP_Cuisine_R1</th>\n",
       "      <th>COOP_ENERC_MEZZ</th>\n",
       "      <th>COOP_ENER_R2</th>\n",
       "      <th>COOP_Péniche_R1</th>\n",
       "      <th>T° EXT</th>\n",
       "    </tr>\n",
       "  </thead>\n",
       "  <tbody>\n",
       "    <tr>\n",
       "      <th>0</th>\n",
       "      <td>2020-09-25 15:45:42</td>\n",
       "      <td>NaN</td>\n",
       "      <td>NaN</td>\n",
       "      <td>NaN</td>\n",
       "      <td>NaN</td>\n",
       "      <td>25.5</td>\n",
       "      <td>20.5</td>\n",
       "    </tr>\n",
       "    <tr>\n",
       "      <th>1</th>\n",
       "      <td>2020-09-25 16:15:42</td>\n",
       "      <td>NaN</td>\n",
       "      <td>NaN</td>\n",
       "      <td>NaN</td>\n",
       "      <td>NaN</td>\n",
       "      <td>23.0</td>\n",
       "      <td>20.0</td>\n",
       "    </tr>\n",
       "    <tr>\n",
       "      <th>2</th>\n",
       "      <td>2020-09-25 16:45:42</td>\n",
       "      <td>NaN</td>\n",
       "      <td>NaN</td>\n",
       "      <td>NaN</td>\n",
       "      <td>NaN</td>\n",
       "      <td>23.0</td>\n",
       "      <td>19.5</td>\n",
       "    </tr>\n",
       "    <tr>\n",
       "      <th>3</th>\n",
       "      <td>2020-09-25 17:15:42</td>\n",
       "      <td>NaN</td>\n",
       "      <td>NaN</td>\n",
       "      <td>NaN</td>\n",
       "      <td>NaN</td>\n",
       "      <td>23.0</td>\n",
       "      <td>19.5</td>\n",
       "    </tr>\n",
       "    <tr>\n",
       "      <th>4</th>\n",
       "      <td>2020-09-25 17:45:42</td>\n",
       "      <td>NaN</td>\n",
       "      <td>NaN</td>\n",
       "      <td>NaN</td>\n",
       "      <td>NaN</td>\n",
       "      <td>23.0</td>\n",
       "      <td>20.0</td>\n",
       "    </tr>\n",
       "  </tbody>\n",
       "</table>\n",
       "</div>"
      ],
      "text/plain": [
       "                  Time  COOP_CWK_R1  COOP_Cuisine_R1  COOP_ENERC_MEZZ  \\\n",
       "0  2020-09-25 15:45:42          NaN              NaN              NaN   \n",
       "1  2020-09-25 16:15:42          NaN              NaN              NaN   \n",
       "2  2020-09-25 16:45:42          NaN              NaN              NaN   \n",
       "3  2020-09-25 17:15:42          NaN              NaN              NaN   \n",
       "4  2020-09-25 17:45:42          NaN              NaN              NaN   \n",
       "\n",
       "   COOP_ENER_R2  COOP_Péniche_R1  T° EXT  \n",
       "0           NaN             25.5    20.5  \n",
       "1           NaN             23.0    20.0  \n",
       "2           NaN             23.0    19.5  \n",
       "3           NaN             23.0    19.5  \n",
       "4           NaN             23.0    20.0  "
      ]
     },
     "execution_count": 5,
     "metadata": {},
     "output_type": "execute_result"
    }
   ],
   "source": [
    "df.head()"
   ]
  },
  {
   "cell_type": "code",
   "execution_count": 6,
   "id": "06161033",
   "metadata": {},
   "outputs": [
    {
     "data": {
      "text/html": [
       "<div>\n",
       "<style scoped>\n",
       "    .dataframe tbody tr th:only-of-type {\n",
       "        vertical-align: middle;\n",
       "    }\n",
       "\n",
       "    .dataframe tbody tr th {\n",
       "        vertical-align: top;\n",
       "    }\n",
       "\n",
       "    .dataframe thead th {\n",
       "        text-align: right;\n",
       "    }\n",
       "</style>\n",
       "<table border=\"1\" class=\"dataframe\">\n",
       "  <thead>\n",
       "    <tr style=\"text-align: right;\">\n",
       "      <th></th>\n",
       "      <th>Time</th>\n",
       "      <th>COOP_CWK_R1</th>\n",
       "      <th>COOP_Cuisine_R1</th>\n",
       "      <th>COOP_ENERC_MEZZ</th>\n",
       "      <th>COOP_ENER_R2</th>\n",
       "      <th>COOP_Péniche_R1</th>\n",
       "      <th>T° EXT</th>\n",
       "    </tr>\n",
       "  </thead>\n",
       "  <tbody>\n",
       "    <tr>\n",
       "      <th>8931</th>\n",
       "      <td>2021-03-30 17:16:41</td>\n",
       "      <td>22.0</td>\n",
       "      <td>21.5</td>\n",
       "      <td>NaN</td>\n",
       "      <td>21.5</td>\n",
       "      <td>NaN</td>\n",
       "      <td>13.0</td>\n",
       "    </tr>\n",
       "    <tr>\n",
       "      <th>8932</th>\n",
       "      <td>2021-03-30 17:46:41</td>\n",
       "      <td>22.0</td>\n",
       "      <td>21.5</td>\n",
       "      <td>NaN</td>\n",
       "      <td>21.5</td>\n",
       "      <td>NaN</td>\n",
       "      <td>13.0</td>\n",
       "    </tr>\n",
       "    <tr>\n",
       "      <th>8933</th>\n",
       "      <td>2021-03-30 18:16:41</td>\n",
       "      <td>22.0</td>\n",
       "      <td>24.5</td>\n",
       "      <td>NaN</td>\n",
       "      <td>21.5</td>\n",
       "      <td>NaN</td>\n",
       "      <td>13.0</td>\n",
       "    </tr>\n",
       "    <tr>\n",
       "      <th>8934</th>\n",
       "      <td>2021-03-30 18:46:41</td>\n",
       "      <td>22.0</td>\n",
       "      <td>NaN</td>\n",
       "      <td>NaN</td>\n",
       "      <td>21.5</td>\n",
       "      <td>NaN</td>\n",
       "      <td>13.0</td>\n",
       "    </tr>\n",
       "    <tr>\n",
       "      <th>8935</th>\n",
       "      <td>2021-03-30 19:22:37</td>\n",
       "      <td>NaN</td>\n",
       "      <td>NaN</td>\n",
       "      <td>NaN</td>\n",
       "      <td>21.5</td>\n",
       "      <td>NaN</td>\n",
       "      <td>13.0</td>\n",
       "    </tr>\n",
       "  </tbody>\n",
       "</table>\n",
       "</div>"
      ],
      "text/plain": [
       "                     Time  COOP_CWK_R1  COOP_Cuisine_R1  COOP_ENERC_MEZZ  \\\n",
       "8931  2021-03-30 17:16:41         22.0             21.5              NaN   \n",
       "8932  2021-03-30 17:46:41         22.0             21.5              NaN   \n",
       "8933  2021-03-30 18:16:41         22.0             24.5              NaN   \n",
       "8934  2021-03-30 18:46:41         22.0              NaN              NaN   \n",
       "8935  2021-03-30 19:22:37          NaN              NaN              NaN   \n",
       "\n",
       "      COOP_ENER_R2  COOP_Péniche_R1  T° EXT  \n",
       "8931          21.5              NaN    13.0  \n",
       "8932          21.5              NaN    13.0  \n",
       "8933          21.5              NaN    13.0  \n",
       "8934          21.5              NaN    13.0  \n",
       "8935          21.5              NaN    13.0  "
      ]
     },
     "execution_count": 6,
     "metadata": {},
     "output_type": "execute_result"
    }
   ],
   "source": [
    "df.tail()"
   ]
  },
  {
   "cell_type": "markdown",
   "id": "78c4b8aa",
   "metadata": {},
   "source": [
    "## Liste des colonnes avec le nombre de données manquantes"
   ]
  },
  {
   "cell_type": "code",
   "execution_count": 7,
   "id": "6f184174",
   "metadata": {},
   "outputs": [
    {
     "data": {
      "text/plain": [
       "Time                  0\n",
       "COOP_CWK_R1         392\n",
       "COOP_Cuisine_R1     723\n",
       "COOP_ENERC_MEZZ    1124\n",
       "COOP_ENER_R2        391\n",
       "COOP_Péniche_R1      59\n",
       "T° EXT                0\n",
       "dtype: int64"
      ]
     },
     "execution_count": 7,
     "metadata": {},
     "output_type": "execute_result"
    }
   ],
   "source": [
    "df.isnull().sum()"
   ]
  },
  {
   "cell_type": "code",
   "execution_count": 8,
   "id": "31aa2f9f",
   "metadata": {},
   "outputs": [
    {
     "data": {
      "text/plain": [
       "Index(['COOP_CWK_R1', 'COOP_Cuisine_R1', 'COOP_ENERC_MEZZ', 'COOP_ENER_R2',\n",
       "       'COOP_Péniche_R1'],\n",
       "      dtype='object')"
      ]
     },
     "execution_count": 8,
     "metadata": {},
     "output_type": "execute_result"
    }
   ],
   "source": [
    "df.columns[df.isnull().any()] #  liste des colonnes avec des données manquantes"
   ]
  },
  {
   "cell_type": "markdown",
   "id": "90a513bb",
   "metadata": {},
   "source": [
    "## Total des valeurs manquantes"
   ]
  },
  {
   "cell_type": "code",
   "execution_count": 9,
   "id": "0002f109",
   "metadata": {},
   "outputs": [
    {
     "data": {
      "text/plain": [
       "2689"
      ]
     },
     "execution_count": 9,
     "metadata": {},
     "output_type": "execute_result"
    }
   ],
   "source": [
    "df.isnull().sum().sum()"
   ]
  },
  {
   "cell_type": "markdown",
   "id": "2c23bdba",
   "metadata": {},
   "source": [
    "## % de valeur NULL par colonne"
   ]
  },
  {
   "cell_type": "code",
   "execution_count": 10,
   "id": "87ad4ec2",
   "metadata": {},
   "outputs": [
    {
     "data": {
      "text/plain": [
       "Time                0.000000\n",
       "COOP_CWK_R1         4.386750\n",
       "COOP_Cuisine_R1     8.090868\n",
       "COOP_ENERC_MEZZ    12.578335\n",
       "COOP_ENER_R2        4.375560\n",
       "COOP_Péniche_R1     0.660251\n",
       "T° EXT              0.000000\n",
       "dtype: float64"
      ]
     },
     "execution_count": 10,
     "metadata": {},
     "output_type": "execute_result"
    }
   ],
   "source": [
    "df.isnull().sum()*100/df.shape[0] #  % de valeur NULL par colonne sur tout le Dataframe"
   ]
  },
  {
   "cell_type": "markdown",
   "id": "2d2df601",
   "metadata": {},
   "source": [
    "##  moins de 13%  de valeurs manquantes sur colonne COOP_ENERC_MEZZ"
   ]
  },
  {
   "cell_type": "code",
   "execution_count": 13,
   "id": "9b77b572",
   "metadata": {},
   "outputs": [
    {
     "data": {
      "text/plain": [
       "Time               True\n",
       "COOP_CWK_R1        True\n",
       "COOP_Cuisine_R1    True\n",
       "COOP_ENERC_MEZZ    True\n",
       "COOP_ENER_R2       True\n",
       "COOP_Péniche_R1    True\n",
       "T° EXT             True\n",
       "dtype: bool"
      ]
     },
     "execution_count": 13,
     "metadata": {},
     "output_type": "execute_result"
    }
   ],
   "source": [
    "df.isnull().sum()*100/df.shape[0] < 13.0  "
   ]
  },
  {
   "cell_type": "code",
   "execution_count": 14,
   "id": "f91cf92a",
   "metadata": {},
   "outputs": [
    {
     "data": {
      "text/plain": [
       "<AxesSubplot:>"
      ]
     },
     "execution_count": 14,
     "metadata": {},
     "output_type": "execute_result"
    },
    {
     "data": {
      "image/png": "[encoded data removed]",
      "text/plain": [
       "<Figure size 432x288 with 2 Axes>"
      ]
     },
     "metadata": {
      "needs_background": "light"
     },
     "output_type": "display_data"
    }
   ],
   "source": [
    "sns.heatmap(df.isnull(), cbar=True)"
   ]
  },
  {
   "cell_type": "code",
   "execution_count": 15,
   "id": "454aeafd",
   "metadata": {},
   "outputs": [
    {
     "data": {
      "text/plain": [
       "8936"
      ]
     },
     "execution_count": 15,
     "metadata": {},
     "output_type": "execute_result"
    }
   ],
   "source": [
    "df.shape[0]"
   ]
  },
  {
   "cell_type": "code",
   "execution_count": 16,
   "id": "9da7b53f",
   "metadata": {},
   "outputs": [
    {
     "data": {
      "text/plain": [
       "Int64Index([   0,    1,    2,    3,    4,    5,    6,    7,    8,    9,\n",
       "            ...\n",
       "            8926, 8927, 8928, 8929, 8930, 8931, 8932, 8933, 8934, 8935],\n",
       "           dtype='int64', length=1124)"
      ]
     },
     "execution_count": 16,
     "metadata": {},
     "output_type": "execute_result"
    }
   ],
   "source": [
    "df.index[df.isnull().any(axis=1)]  # Obtenir une liste des lignes avec des données manquantes"
   ]
  },
  {
   "cell_type": "markdown",
   "id": "174d266a",
   "metadata": {},
   "source": [
    "## Recherche de ligne dupliquée"
   ]
  },
  {
   "cell_type": "code",
   "execution_count": 74,
   "id": "04bdd3e8",
   "metadata": {},
   "outputs": [
    {
     "data": {
      "text/plain": [
       "0       False\n",
       "1       False\n",
       "2       False\n",
       "3       False\n",
       "4       False\n",
       "        ...  \n",
       "4427    False\n",
       "4428    False\n",
       "4429    False\n",
       "4430    False\n",
       "4431    False\n",
       "Length: 4432, dtype: bool"
      ]
     },
     "execution_count": 74,
     "metadata": {},
     "output_type": "execute_result"
    }
   ],
   "source": [
    "df.duplicated() # Renvoie une série booléenne indiquant des lignes en double. "
   ]
  },
  {
   "cell_type": "markdown",
   "id": "4bd46a5c",
   "metadata": {},
   "source": [
    "## Il n'y a pas de ligne dupliquée"
   ]
  }
 ],
 "metadata": {
  "kernelspec": {
   "display_name": "Python 3",
   "language": "python",
   "name": "python3"
  },
  "language_info": {
   "codemirror_mode": {
    "name": "ipython",
    "version": 3
   },
   "file_extension": ".py",
   "mimetype": "text/x-python",
   "name": "python",
   "nbconvert_exporter": "python",
   "pygments_lexer": "ipython3",
   "version": "3.8.7"
  }
 },
 "nbformat": 4,
 "nbformat_minor": 5
}
