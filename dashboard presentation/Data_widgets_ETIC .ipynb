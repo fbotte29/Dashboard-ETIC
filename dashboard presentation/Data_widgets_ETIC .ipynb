{
 "cells": [
  {
   "cell_type": "code",
   "execution_count": 2,
   "id": "judicial-naples",
   "metadata": {},
   "outputs": [],
   "source": [
    "import datetime\n",
    "import io\n",
    "import locale\n",
    "import pandas as pd\n",
    "import matplotlib.pyplot as plt\n",
    "import ipywidgets as widgets\n",
    "from IPython.display import display\n",
    "\n",
    "# locale.setlocale(locale.LC_ALL, 'fr_FR.UTF-8')\n",
    "# plt.style.use('seaborn-whitegrid')\n",
    "plt.style.use(['seaborn-whitegrid'])"
   ]
  },
  {
   "cell_type": "code",
   "execution_count": 3,
   "id": "integrated-story",
   "metadata": {},
   "outputs": [],
   "source": [
    "def create_df(file_name):\n",
    "    df = pd.read_csv(file_name)\n",
    "    df = df.astype({'Time' : 'datetime64'})\n",
    "    df = df.set_index(\"Time\")\n",
    "    return df\n",
    "\n",
    "try:\n",
    "    df = create_df(\"temperatures_COOP_Ete2020.csv\")\n",
    "except FileNotFoundError:\n",
    "    print(\"Fichier CSV introuvable\")"
   ]
  },
  {
   "cell_type": "code",
   "execution_count": 29,
   "id": "coral-purple",
   "metadata": {},
   "outputs": [
    {
     "name": "stdout",
     "output_type": "stream",
     "text": [
      "<class 'ipywidgets.widgets.widget_date.DatePicker'>\n"
     ]
    },
    {
     "data": {
      "application/vnd.jupyter.widget-view+json": {
       "model_id": "873af17f36e147a5a23a854bff06a9fc",
       "version_major": 2,
       "version_minor": 0
      },
      "text/plain": [
       "DatePicker(value=datetime.datetime(2020, 7, 3, 11, 30), description='Date début')"
      ]
     },
     "metadata": {},
     "output_type": "display_data"
    },
    {
     "data": {
      "application/vnd.jupyter.widget-view+json": {
       "model_id": "1e23705d8a5344b291a8cafeffcfda2f",
       "version_major": 2,
       "version_minor": 0
      },
      "text/plain": [
       "DatePicker(value=datetime.datetime(2020, 10, 3, 11, 30), description='Date fin')"
      ]
     },
     "metadata": {},
     "output_type": "display_data"
    },
    {
     "data": {
      "application/vnd.jupyter.widget-view+json": {
       "model_id": "dd8e280be0a34367bfb81d306a1a8ea3",
       "version_major": 2,
       "version_minor": 0
      },
      "text/plain": [
       "Select(description='Batiment :', options=('COOP_CWK_R1', 'COOP_ENER_R2', 'COOP_ENERC_MEZZ', 'COOP_ENERC_URSC',…"
      ]
     },
     "metadata": {},
     "output_type": "display_data"
    }
   ],
   "source": [
    "begin_date = widgets.DatePicker(\n",
    "    description='Date début',\n",
    "    disabled=False,\n",
    "    value = datetime.datetime(2020, 7, 3, 11, 30, 0)\n",
    ")\n",
    "type(begin_date)\n",
    "print(type(begin_date))\n",
    "\n",
    "end_date = widgets.DatePicker(\n",
    "    description='Date fin',\n",
    "    disabled=False,\n",
    "    value = datetime.datetime(2020, 10, 3, 11, 30, 0)\n",
    ")\n",
    "batiment = widgets.Select(\n",
    "    options=df.columns,\n",
    "    description='Batiment :',\n",
    "    disabled=False\n",
    ")\n",
    "temp_ext = widgets.Checkbox(\n",
    "    option =df[\"T° EXT\"],\n",
    "    value=True,\n",
    "    description='Température EXT',\n",
    "    disabled=False,\n",
    "    indent=True\n",
    ")\n",
    "display(begin_date, end_date, batiment)"
   ]
  },
  {
   "cell_type": "code",
   "execution_count": 26,
   "id": "freelance-fundamentals",
   "metadata": {},
   "outputs": [],
   "source": [
    "\n",
    "def select_data(i):\n",
    "    temp_ext_value = temp_ext.value\n",
    "    begin_date_value = begin_date.value\n",
    "    type(begin_date_value)\n",
    "    print(type(begin_date_value))\n",
    "    end_date_value = begin_date.value + datetime.timedelta(days=i)\n",
    "    type(end_date_value)\n",
    "    print(type(end_date_value))\n",
    "    print(end_date_value)\n",
    "    #maxi = (end_date.value-begin_date.value).days\n",
    "    #print(maxi)\n",
    "    select_df = df.loc[begin_date_value:end_date_value, batiment.value]\n",
    "    select_df1 = df.loc[begin_date_value:end_date_value, \"T° EXT\"]\n",
    "    plt.figure(figsize=(20,10))\n",
    "    plt.title(\n",
    "    f\"\"\"Température à {batiment.value} entre le {begin_date_value.strftime(\"%d %B %Y\")} et le {end_date_value.strftime(\"%d %B %Y\")}\"\"\",\n",
    "    fontsize=20,\n",
    "    )\n",
    "    ax = select_df.plot()\n",
    "    ax1 = select_df1.plot()\n",
    "    ax.set_ylabel(\"Température en °C\", fontsize=20)\n",
    "    ax.set_xlabel(\"Date\", fontsize=20)\n",
    "    plt.axhline(y = 30, color = 'r', linestyle = 'dashed', label = 'seuil limite 30°')\n",
    "    plt.axhline(y = 28, color = 'g', linestyle = 'dashed', label = \"seuil inconfort 28°\")\n",
    "    plt.legend(bbox_to_anchor = (1.0, 1), loc = 'best')\n",
    "    plt.tick_params(axis='both', which='major', labelsize=16)\n",
    "    return select_df\n"
   ]
  },
  {
   "cell_type": "code",
   "execution_count": 28,
   "id": "adequate-spain",
   "metadata": {},
   "outputs": [
    {
     "name": "stdout",
     "output_type": "stream",
     "text": [
      "<class 'int'>\n",
      "92\n"
     ]
    },
    {
     "data": {
      "application/vnd.jupyter.widget-view+json": {
       "model_id": "684ce8245d7444508415d7f551bca3a1",
       "version_major": 2,
       "version_minor": 0
      },
      "text/plain": [
       "interactive(children=(Play(value=0, description='i', max=92), Output()), _dom_classes=('widget-interact',))"
      ]
     },
     "metadata": {},
     "output_type": "display_data"
    }
   ],
   "source": [
    "days = (end_date.value-begin_date.value).days\n",
    "type(days)\n",
    "print(type(days))\n",
    "print(days)\n",
    "play = widgets.Play(\n",
    "    value=0,\n",
    "    min=0,\n",
    "    max= days,\n",
    "    step=1,\n",
    "    interval=100,\n",
    "    disabled=False,\n",
    ")\n",
    "widgets.interactive(select_data, i=play)"
   ]
  },
  {
   "cell_type": "code",
   "execution_count": null,
   "id": "contrary-handy",
   "metadata": {},
   "outputs": [],
   "source": []
  },
  {
   "cell_type": "code",
   "execution_count": null,
   "id": "medieval-premises",
   "metadata": {},
   "outputs": [],
   "source": []
  },
  {
   "cell_type": "code",
   "execution_count": null,
   "id": "f2008126",
   "metadata": {},
   "outputs": [],
   "source": []
  }
 ],
 "metadata": {
  "kernelspec": {
   "display_name": "Python 3",
   "language": "python",
   "name": "python3"
  },
  "language_info": {
   "codemirror_mode": {
    "name": "ipython",
    "version": 3
   },
   "file_extension": ".py",
   "mimetype": "text/x-python",
   "name": "python",
   "nbconvert_exporter": "python",
   "pygments_lexer": "ipython3",
   "version": "3.8.7"
  }
 },
 "nbformat": 4,
 "nbformat_minor": 5
}
