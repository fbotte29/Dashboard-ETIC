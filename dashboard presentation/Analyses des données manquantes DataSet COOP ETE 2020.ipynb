{
 "cells": [
  {
   "cell_type": "markdown",
   "id": "f599db25",
   "metadata": {},
   "source": [
    "# Analyse des données Espaces COOP été 2020"
   ]
  },
  {
   "cell_type": "code",
   "execution_count": 1,
   "id": "3a400cd3",
   "metadata": {},
   "outputs": [],
   "source": [
    "import pandas as pd\n",
    "import seaborn as sns\n",
    "\n",
    "\n",
    "df = pd.read_csv(\"temperatures_COOP_Ete2020.csv\")"
   ]
  },
  {
   "cell_type": "markdown",
   "id": "713f7d30",
   "metadata": {},
   "source": [
    "## Exploration du jeu de données "
   ]
  },
  {
   "cell_type": "code",
   "execution_count": 2,
   "id": "298d919d",
   "metadata": {},
   "outputs": [
    {
     "data": {
      "text/html": [
       "<div>\n",
       "<style scoped>\n",
       "    .dataframe tbody tr th:only-of-type {\n",
       "        vertical-align: middle;\n",
       "    }\n",
       "\n",
       "    .dataframe tbody tr th {\n",
       "        vertical-align: top;\n",
       "    }\n",
       "\n",
       "    .dataframe thead th {\n",
       "        text-align: right;\n",
       "    }\n",
       "</style>\n",
       "<table border=\"1\" class=\"dataframe\">\n",
       "  <thead>\n",
       "    <tr style=\"text-align: right;\">\n",
       "      <th></th>\n",
       "      <th>COOP_CWK_R1</th>\n",
       "      <th>COOP_ENER_R2</th>\n",
       "      <th>COOP_ENERC_MEZZ</th>\n",
       "      <th>COOP_ENERC_URSC</th>\n",
       "      <th>COOP_Péniche_R1</th>\n",
       "      <th>T° EXT</th>\n",
       "    </tr>\n",
       "  </thead>\n",
       "  <tbody>\n",
       "    <tr>\n",
       "      <th>count</th>\n",
       "      <td>4432.000000</td>\n",
       "      <td>4432.000000</td>\n",
       "      <td>4431.000000</td>\n",
       "      <td>4431.000000</td>\n",
       "      <td>4041.000000</td>\n",
       "      <td>4432.000000</td>\n",
       "    </tr>\n",
       "    <tr>\n",
       "      <th>mean</th>\n",
       "      <td>25.791178</td>\n",
       "      <td>24.714576</td>\n",
       "      <td>25.651997</td>\n",
       "      <td>25.567028</td>\n",
       "      <td>25.237194</td>\n",
       "      <td>34.714576</td>\n",
       "    </tr>\n",
       "    <tr>\n",
       "      <th>std</th>\n",
       "      <td>2.090482</td>\n",
       "      <td>2.792005</td>\n",
       "      <td>2.936302</td>\n",
       "      <td>2.763213</td>\n",
       "      <td>1.637199</td>\n",
       "      <td>2.792005</td>\n",
       "    </tr>\n",
       "    <tr>\n",
       "      <th>min</th>\n",
       "      <td>20.000000</td>\n",
       "      <td>16.500000</td>\n",
       "      <td>18.000000</td>\n",
       "      <td>18.000000</td>\n",
       "      <td>20.500000</td>\n",
       "      <td>26.500000</td>\n",
       "    </tr>\n",
       "    <tr>\n",
       "      <th>25%</th>\n",
       "      <td>24.500000</td>\n",
       "      <td>23.000000</td>\n",
       "      <td>23.500000</td>\n",
       "      <td>24.000000</td>\n",
       "      <td>24.000000</td>\n",
       "      <td>33.000000</td>\n",
       "    </tr>\n",
       "    <tr>\n",
       "      <th>50%</th>\n",
       "      <td>26.500000</td>\n",
       "      <td>25.500000</td>\n",
       "      <td>26.000000</td>\n",
       "      <td>26.000000</td>\n",
       "      <td>25.500000</td>\n",
       "      <td>35.500000</td>\n",
       "    </tr>\n",
       "    <tr>\n",
       "      <th>75%</th>\n",
       "      <td>27.000000</td>\n",
       "      <td>26.500000</td>\n",
       "      <td>27.500000</td>\n",
       "      <td>27.500000</td>\n",
       "      <td>26.500000</td>\n",
       "      <td>36.500000</td>\n",
       "    </tr>\n",
       "    <tr>\n",
       "      <th>max</th>\n",
       "      <td>30.000000</td>\n",
       "      <td>31.500000</td>\n",
       "      <td>35.500000</td>\n",
       "      <td>33.000000</td>\n",
       "      <td>29.500000</td>\n",
       "      <td>41.500000</td>\n",
       "    </tr>\n",
       "  </tbody>\n",
       "</table>\n",
       "</div>"
      ],
      "text/plain": [
       "       COOP_CWK_R1  COOP_ENER_R2  COOP_ENERC_MEZZ  COOP_ENERC_URSC  \\\n",
       "count  4432.000000   4432.000000      4431.000000      4431.000000   \n",
       "mean     25.791178     24.714576        25.651997        25.567028   \n",
       "std       2.090482      2.792005         2.936302         2.763213   \n",
       "min      20.000000     16.500000        18.000000        18.000000   \n",
       "25%      24.500000     23.000000        23.500000        24.000000   \n",
       "50%      26.500000     25.500000        26.000000        26.000000   \n",
       "75%      27.000000     26.500000        27.500000        27.500000   \n",
       "max      30.000000     31.500000        35.500000        33.000000   \n",
       "\n",
       "       COOP_Péniche_R1       T° EXT  \n",
       "count      4041.000000  4432.000000  \n",
       "mean         25.237194    34.714576  \n",
       "std           1.637199     2.792005  \n",
       "min          20.500000    26.500000  \n",
       "25%          24.000000    33.000000  \n",
       "50%          25.500000    35.500000  \n",
       "75%          26.500000    36.500000  \n",
       "max          29.500000    41.500000  "
      ]
     },
     "execution_count": 2,
     "metadata": {},
     "output_type": "execute_result"
    }
   ],
   "source": [
    "df.describe()"
   ]
  },
  {
   "cell_type": "markdown",
   "id": "7ba2286c",
   "metadata": {},
   "source": [
    "## mise en évidence de données manquantes"
   ]
  },
  {
   "cell_type": "code",
   "execution_count": 3,
   "id": "bc8cadd3",
   "metadata": {},
   "outputs": [
    {
     "data": {
      "text/html": [
       "<div>\n",
       "<style scoped>\n",
       "    .dataframe tbody tr th:only-of-type {\n",
       "        vertical-align: middle;\n",
       "    }\n",
       "\n",
       "    .dataframe tbody tr th {\n",
       "        vertical-align: top;\n",
       "    }\n",
       "\n",
       "    .dataframe thead th {\n",
       "        text-align: right;\n",
       "    }\n",
       "</style>\n",
       "<table border=\"1\" class=\"dataframe\">\n",
       "  <thead>\n",
       "    <tr style=\"text-align: right;\">\n",
       "      <th></th>\n",
       "      <th>Time</th>\n",
       "      <th>COOP_CWK_R1</th>\n",
       "      <th>COOP_ENER_R2</th>\n",
       "      <th>COOP_ENERC_MEZZ</th>\n",
       "      <th>COOP_ENERC_URSC</th>\n",
       "      <th>COOP_Péniche_R1</th>\n",
       "      <th>T° EXT</th>\n",
       "    </tr>\n",
       "  </thead>\n",
       "  <tbody>\n",
       "    <tr>\n",
       "      <th>0</th>\n",
       "      <td>False</td>\n",
       "      <td>False</td>\n",
       "      <td>False</td>\n",
       "      <td>True</td>\n",
       "      <td>True</td>\n",
       "      <td>False</td>\n",
       "      <td>False</td>\n",
       "    </tr>\n",
       "    <tr>\n",
       "      <th>1</th>\n",
       "      <td>False</td>\n",
       "      <td>False</td>\n",
       "      <td>False</td>\n",
       "      <td>False</td>\n",
       "      <td>False</td>\n",
       "      <td>False</td>\n",
       "      <td>False</td>\n",
       "    </tr>\n",
       "    <tr>\n",
       "      <th>2</th>\n",
       "      <td>False</td>\n",
       "      <td>False</td>\n",
       "      <td>False</td>\n",
       "      <td>False</td>\n",
       "      <td>False</td>\n",
       "      <td>False</td>\n",
       "      <td>False</td>\n",
       "    </tr>\n",
       "    <tr>\n",
       "      <th>3</th>\n",
       "      <td>False</td>\n",
       "      <td>False</td>\n",
       "      <td>False</td>\n",
       "      <td>False</td>\n",
       "      <td>False</td>\n",
       "      <td>False</td>\n",
       "      <td>False</td>\n",
       "    </tr>\n",
       "    <tr>\n",
       "      <th>4</th>\n",
       "      <td>False</td>\n",
       "      <td>False</td>\n",
       "      <td>False</td>\n",
       "      <td>False</td>\n",
       "      <td>False</td>\n",
       "      <td>False</td>\n",
       "      <td>False</td>\n",
       "    </tr>\n",
       "    <tr>\n",
       "      <th>...</th>\n",
       "      <td>...</td>\n",
       "      <td>...</td>\n",
       "      <td>...</td>\n",
       "      <td>...</td>\n",
       "      <td>...</td>\n",
       "      <td>...</td>\n",
       "      <td>...</td>\n",
       "    </tr>\n",
       "    <tr>\n",
       "      <th>4427</th>\n",
       "      <td>False</td>\n",
       "      <td>False</td>\n",
       "      <td>False</td>\n",
       "      <td>False</td>\n",
       "      <td>False</td>\n",
       "      <td>True</td>\n",
       "      <td>False</td>\n",
       "    </tr>\n",
       "    <tr>\n",
       "      <th>4428</th>\n",
       "      <td>False</td>\n",
       "      <td>False</td>\n",
       "      <td>False</td>\n",
       "      <td>False</td>\n",
       "      <td>False</td>\n",
       "      <td>True</td>\n",
       "      <td>False</td>\n",
       "    </tr>\n",
       "    <tr>\n",
       "      <th>4429</th>\n",
       "      <td>False</td>\n",
       "      <td>False</td>\n",
       "      <td>False</td>\n",
       "      <td>False</td>\n",
       "      <td>False</td>\n",
       "      <td>True</td>\n",
       "      <td>False</td>\n",
       "    </tr>\n",
       "    <tr>\n",
       "      <th>4430</th>\n",
       "      <td>False</td>\n",
       "      <td>False</td>\n",
       "      <td>False</td>\n",
       "      <td>False</td>\n",
       "      <td>False</td>\n",
       "      <td>True</td>\n",
       "      <td>False</td>\n",
       "    </tr>\n",
       "    <tr>\n",
       "      <th>4431</th>\n",
       "      <td>False</td>\n",
       "      <td>False</td>\n",
       "      <td>False</td>\n",
       "      <td>False</td>\n",
       "      <td>False</td>\n",
       "      <td>True</td>\n",
       "      <td>False</td>\n",
       "    </tr>\n",
       "  </tbody>\n",
       "</table>\n",
       "<p>4432 rows × 7 columns</p>\n",
       "</div>"
      ],
      "text/plain": [
       "       Time  COOP_CWK_R1  COOP_ENER_R2  COOP_ENERC_MEZZ  COOP_ENERC_URSC  \\\n",
       "0     False        False         False             True             True   \n",
       "1     False        False         False            False            False   \n",
       "2     False        False         False            False            False   \n",
       "3     False        False         False            False            False   \n",
       "4     False        False         False            False            False   \n",
       "...     ...          ...           ...              ...              ...   \n",
       "4427  False        False         False            False            False   \n",
       "4428  False        False         False            False            False   \n",
       "4429  False        False         False            False            False   \n",
       "4430  False        False         False            False            False   \n",
       "4431  False        False         False            False            False   \n",
       "\n",
       "      COOP_Péniche_R1  T° EXT  \n",
       "0               False   False  \n",
       "1               False   False  \n",
       "2               False   False  \n",
       "3               False   False  \n",
       "4               False   False  \n",
       "...               ...     ...  \n",
       "4427             True   False  \n",
       "4428             True   False  \n",
       "4429             True   False  \n",
       "4430             True   False  \n",
       "4431             True   False  \n",
       "\n",
       "[4432 rows x 7 columns]"
      ]
     },
     "execution_count": 3,
     "metadata": {},
     "output_type": "execute_result"
    }
   ],
   "source": [
    "df.isnull()"
   ]
  },
  {
   "cell_type": "code",
   "execution_count": 4,
   "id": "ef7e6107",
   "metadata": {},
   "outputs": [
    {
     "data": {
      "text/html": [
       "<div>\n",
       "<style scoped>\n",
       "    .dataframe tbody tr th:only-of-type {\n",
       "        vertical-align: middle;\n",
       "    }\n",
       "\n",
       "    .dataframe tbody tr th {\n",
       "        vertical-align: top;\n",
       "    }\n",
       "\n",
       "    .dataframe thead th {\n",
       "        text-align: right;\n",
       "    }\n",
       "</style>\n",
       "<table border=\"1\" class=\"dataframe\">\n",
       "  <thead>\n",
       "    <tr style=\"text-align: right;\">\n",
       "      <th></th>\n",
       "      <th>Time</th>\n",
       "      <th>COOP_CWK_R1</th>\n",
       "      <th>COOP_ENER_R2</th>\n",
       "      <th>COOP_ENERC_MEZZ</th>\n",
       "      <th>COOP_ENERC_URSC</th>\n",
       "      <th>COOP_Péniche_R1</th>\n",
       "      <th>T° EXT</th>\n",
       "    </tr>\n",
       "  </thead>\n",
       "  <tbody>\n",
       "    <tr>\n",
       "      <th>0</th>\n",
       "      <td>2020-07-03 11:30:00</td>\n",
       "      <td>27.0</td>\n",
       "      <td>25.5</td>\n",
       "      <td>NaN</td>\n",
       "      <td>NaN</td>\n",
       "      <td>26.0</td>\n",
       "      <td>35.5</td>\n",
       "    </tr>\n",
       "    <tr>\n",
       "      <th>1</th>\n",
       "      <td>2020-07-03 12:00:00</td>\n",
       "      <td>25.5</td>\n",
       "      <td>25.0</td>\n",
       "      <td>26.0</td>\n",
       "      <td>26.0</td>\n",
       "      <td>26.0</td>\n",
       "      <td>35.0</td>\n",
       "    </tr>\n",
       "    <tr>\n",
       "      <th>2</th>\n",
       "      <td>2020-07-03 12:30:00</td>\n",
       "      <td>25.5</td>\n",
       "      <td>24.5</td>\n",
       "      <td>25.5</td>\n",
       "      <td>25.5</td>\n",
       "      <td>25.5</td>\n",
       "      <td>34.5</td>\n",
       "    </tr>\n",
       "    <tr>\n",
       "      <th>3</th>\n",
       "      <td>2020-07-03 13:00:00</td>\n",
       "      <td>25.5</td>\n",
       "      <td>24.5</td>\n",
       "      <td>25.5</td>\n",
       "      <td>25.5</td>\n",
       "      <td>25.5</td>\n",
       "      <td>34.5</td>\n",
       "    </tr>\n",
       "    <tr>\n",
       "      <th>4</th>\n",
       "      <td>2020-07-03 13:30:00</td>\n",
       "      <td>25.5</td>\n",
       "      <td>25.0</td>\n",
       "      <td>25.5</td>\n",
       "      <td>25.5</td>\n",
       "      <td>25.5</td>\n",
       "      <td>35.0</td>\n",
       "    </tr>\n",
       "  </tbody>\n",
       "</table>\n",
       "</div>"
      ],
      "text/plain": [
       "                  Time  COOP_CWK_R1  COOP_ENER_R2  COOP_ENERC_MEZZ  \\\n",
       "0  2020-07-03 11:30:00         27.0          25.5              NaN   \n",
       "1  2020-07-03 12:00:00         25.5          25.0             26.0   \n",
       "2  2020-07-03 12:30:00         25.5          24.5             25.5   \n",
       "3  2020-07-03 13:00:00         25.5          24.5             25.5   \n",
       "4  2020-07-03 13:30:00         25.5          25.0             25.5   \n",
       "\n",
       "   COOP_ENERC_URSC  COOP_Péniche_R1  T° EXT  \n",
       "0              NaN             26.0    35.5  \n",
       "1             26.0             26.0    35.0  \n",
       "2             25.5             25.5    34.5  \n",
       "3             25.5             25.5    34.5  \n",
       "4             25.5             25.5    35.0  "
      ]
     },
     "execution_count": 4,
     "metadata": {},
     "output_type": "execute_result"
    }
   ],
   "source": [
    "df.head()"
   ]
  },
  {
   "cell_type": "code",
   "execution_count": 5,
   "id": "06161033",
   "metadata": {},
   "outputs": [
    {
     "data": {
      "text/html": [
       "<div>\n",
       "<style scoped>\n",
       "    .dataframe tbody tr th:only-of-type {\n",
       "        vertical-align: middle;\n",
       "    }\n",
       "\n",
       "    .dataframe tbody tr th {\n",
       "        vertical-align: top;\n",
       "    }\n",
       "\n",
       "    .dataframe thead th {\n",
       "        text-align: right;\n",
       "    }\n",
       "</style>\n",
       "<table border=\"1\" class=\"dataframe\">\n",
       "  <thead>\n",
       "    <tr style=\"text-align: right;\">\n",
       "      <th></th>\n",
       "      <th>Time</th>\n",
       "      <th>COOP_CWK_R1</th>\n",
       "      <th>COOP_ENER_R2</th>\n",
       "      <th>COOP_ENERC_MEZZ</th>\n",
       "      <th>COOP_ENERC_URSC</th>\n",
       "      <th>COOP_Péniche_R1</th>\n",
       "      <th>T° EXT</th>\n",
       "    </tr>\n",
       "  </thead>\n",
       "  <tbody>\n",
       "    <tr>\n",
       "      <th>4427</th>\n",
       "      <td>2020-10-03 17:00:00</td>\n",
       "      <td>22.0</td>\n",
       "      <td>19.5</td>\n",
       "      <td>21.5</td>\n",
       "      <td>21.0</td>\n",
       "      <td>NaN</td>\n",
       "      <td>29.5</td>\n",
       "    </tr>\n",
       "    <tr>\n",
       "      <th>4428</th>\n",
       "      <td>2020-10-03 17:30:00</td>\n",
       "      <td>22.0</td>\n",
       "      <td>19.5</td>\n",
       "      <td>21.5</td>\n",
       "      <td>21.0</td>\n",
       "      <td>NaN</td>\n",
       "      <td>29.5</td>\n",
       "    </tr>\n",
       "    <tr>\n",
       "      <th>4429</th>\n",
       "      <td>2020-10-03 18:00:00</td>\n",
       "      <td>22.0</td>\n",
       "      <td>19.5</td>\n",
       "      <td>21.5</td>\n",
       "      <td>21.0</td>\n",
       "      <td>NaN</td>\n",
       "      <td>29.5</td>\n",
       "    </tr>\n",
       "    <tr>\n",
       "      <th>4430</th>\n",
       "      <td>2020-10-03 18:30:00</td>\n",
       "      <td>22.0</td>\n",
       "      <td>19.5</td>\n",
       "      <td>21.0</td>\n",
       "      <td>21.0</td>\n",
       "      <td>NaN</td>\n",
       "      <td>29.5</td>\n",
       "    </tr>\n",
       "    <tr>\n",
       "      <th>4431</th>\n",
       "      <td>2020-10-03 19:00:00</td>\n",
       "      <td>22.0</td>\n",
       "      <td>19.5</td>\n",
       "      <td>21.5</td>\n",
       "      <td>21.0</td>\n",
       "      <td>NaN</td>\n",
       "      <td>29.5</td>\n",
       "    </tr>\n",
       "  </tbody>\n",
       "</table>\n",
       "</div>"
      ],
      "text/plain": [
       "                     Time  COOP_CWK_R1  COOP_ENER_R2  COOP_ENERC_MEZZ  \\\n",
       "4427  2020-10-03 17:00:00         22.0          19.5             21.5   \n",
       "4428  2020-10-03 17:30:00         22.0          19.5             21.5   \n",
       "4429  2020-10-03 18:00:00         22.0          19.5             21.5   \n",
       "4430  2020-10-03 18:30:00         22.0          19.5             21.0   \n",
       "4431  2020-10-03 19:00:00         22.0          19.5             21.5   \n",
       "\n",
       "      COOP_ENERC_URSC  COOP_Péniche_R1  T° EXT  \n",
       "4427             21.0              NaN    29.5  \n",
       "4428             21.0              NaN    29.5  \n",
       "4429             21.0              NaN    29.5  \n",
       "4430             21.0              NaN    29.5  \n",
       "4431             21.0              NaN    29.5  "
      ]
     },
     "execution_count": 5,
     "metadata": {},
     "output_type": "execute_result"
    }
   ],
   "source": [
    "df.tail()"
   ]
  },
  {
   "cell_type": "markdown",
   "id": "78c4b8aa",
   "metadata": {},
   "source": [
    "## Liste des colonnes avec le nombre de données manquantes"
   ]
  },
  {
   "cell_type": "code",
   "execution_count": 6,
   "id": "6f184174",
   "metadata": {},
   "outputs": [
    {
     "data": {
      "text/plain": [
       "Time                 0\n",
       "COOP_CWK_R1          0\n",
       "COOP_ENER_R2         0\n",
       "COOP_ENERC_MEZZ      1\n",
       "COOP_ENERC_URSC      1\n",
       "COOP_Péniche_R1    391\n",
       "T° EXT               0\n",
       "dtype: int64"
      ]
     },
     "execution_count": 6,
     "metadata": {},
     "output_type": "execute_result"
    }
   ],
   "source": [
    "df.isnull().sum()"
   ]
  },
  {
   "cell_type": "code",
   "execution_count": 7,
   "id": "31aa2f9f",
   "metadata": {},
   "outputs": [
    {
     "data": {
      "text/plain": [
       "Index(['COOP_ENERC_MEZZ', 'COOP_ENERC_URSC', 'COOP_Péniche_R1'], dtype='object')"
      ]
     },
     "execution_count": 7,
     "metadata": {},
     "output_type": "execute_result"
    }
   ],
   "source": [
    "df.columns[df.isnull().any()] #  liste des colonnes avec des données manquantes"
   ]
  },
  {
   "cell_type": "markdown",
   "id": "90a513bb",
   "metadata": {},
   "source": [
    "## Total des valeurs manquantes"
   ]
  },
  {
   "cell_type": "code",
   "execution_count": 8,
   "id": "0002f109",
   "metadata": {},
   "outputs": [
    {
     "data": {
      "text/plain": [
       "393"
      ]
     },
     "execution_count": 8,
     "metadata": {},
     "output_type": "execute_result"
    }
   ],
   "source": [
    "df.isnull().sum().sum()"
   ]
  },
  {
   "cell_type": "markdown",
   "id": "2c23bdba",
   "metadata": {},
   "source": [
    "## % de valeur NULL par colonne"
   ]
  },
  {
   "cell_type": "code",
   "execution_count": 9,
   "id": "87ad4ec2",
   "metadata": {},
   "outputs": [
    {
     "data": {
      "text/plain": [
       "Time               0.000000\n",
       "COOP_CWK_R1        0.000000\n",
       "COOP_ENER_R2       0.000000\n",
       "COOP_ENERC_MEZZ    0.022563\n",
       "COOP_ENERC_URSC    0.022563\n",
       "COOP_Péniche_R1    8.822202\n",
       "T° EXT             0.000000\n",
       "dtype: float64"
      ]
     },
     "execution_count": 9,
     "metadata": {},
     "output_type": "execute_result"
    }
   ],
   "source": [
    "df.isnull().sum()*100/df.shape[0] #  % de valeur NULL par colonne sur tout le Dataframe"
   ]
  },
  {
   "cell_type": "markdown",
   "id": "2d2df601",
   "metadata": {},
   "source": [
    "## moins de 9% de valeurs manquantes sur colonne COOP_Péniche_R1"
   ]
  },
  {
   "cell_type": "code",
   "execution_count": 10,
   "id": "9b77b572",
   "metadata": {},
   "outputs": [
    {
     "data": {
      "text/plain": [
       "Time                True\n",
       "COOP_CWK_R1         True\n",
       "COOP_ENER_R2        True\n",
       "COOP_ENERC_MEZZ     True\n",
       "COOP_ENERC_URSC     True\n",
       "COOP_Péniche_R1    False\n",
       "T° EXT              True\n",
       "dtype: bool"
      ]
     },
     "execution_count": 10,
     "metadata": {},
     "output_type": "execute_result"
    }
   ],
   "source": [
    "df.isnull().sum()*100/df.shape[0] < 8.0  "
   ]
  },
  {
   "cell_type": "code",
   "execution_count": 11,
   "id": "f91cf92a",
   "metadata": {},
   "outputs": [
    {
     "data": {
      "text/plain": [
       "<AxesSubplot:>"
      ]
     },
     "execution_count": 11,
     "metadata": {},
     "output_type": "execute_result"
    },
    {
     "data": {
      "image/png": "[encoded data removed]",
      "text/plain": [
       "<Figure size 432x288 with 2 Axes>"
      ]
     },
     "metadata": {
      "needs_background": "light"
     },
     "output_type": "display_data"
    }
   ],
   "source": [
    "sns.heatmap(df.isnull(), cbar=True)"
   ]
  },
  {
   "cell_type": "code",
   "execution_count": 12,
   "id": "454aeafd",
   "metadata": {},
   "outputs": [
    {
     "data": {
      "text/plain": [
       "4432"
      ]
     },
     "execution_count": 12,
     "metadata": {},
     "output_type": "execute_result"
    }
   ],
   "source": [
    "df.shape[0]"
   ]
  },
  {
   "cell_type": "code",
   "execution_count": 13,
   "id": "9da7b53f",
   "metadata": {},
   "outputs": [
    {
     "data": {
      "text/plain": [
       "Int64Index([   0, 4041, 4042, 4043, 4044, 4045, 4046, 4047, 4048, 4049,\n",
       "            ...\n",
       "            4422, 4423, 4424, 4425, 4426, 4427, 4428, 4429, 4430, 4431],\n",
       "           dtype='int64', length=392)"
      ]
     },
     "execution_count": 13,
     "metadata": {},
     "output_type": "execute_result"
    }
   ],
   "source": [
    "df.index[df.isnull().any(axis=1)]  # Obtenir une liste des lignes avec des données manquantes"
   ]
  },
  {
   "cell_type": "markdown",
   "id": "174d266a",
   "metadata": {},
   "source": [
    "## Recherche de ligne dupliquée"
   ]
  },
  {
   "cell_type": "code",
   "execution_count": 74,
   "id": "04bdd3e8",
   "metadata": {},
   "outputs": [
    {
     "data": {
      "text/plain": [
       "0       False\n",
       "1       False\n",
       "2       False\n",
       "3       False\n",
       "4       False\n",
       "        ...  \n",
       "4427    False\n",
       "4428    False\n",
       "4429    False\n",
       "4430    False\n",
       "4431    False\n",
       "Length: 4432, dtype: bool"
      ]
     },
     "execution_count": 74,
     "metadata": {},
     "output_type": "execute_result"
    }
   ],
   "source": [
    "df.duplicated() # Renvoie une série booléenne indiquant des lignes en double. "
   ]
  },
  {
   "cell_type": "markdown",
   "id": "4bd46a5c",
   "metadata": {},
   "source": [
    "## Il n'y a pas de ligne dupliquée"
   ]
  }
 ],
 "metadata": {
  "kernelspec": {
   "display_name": "Python 3",
   "language": "python",
   "name": "python3"
  },
  "language_info": {
   "codemirror_mode": {
    "name": "ipython",
    "version": 3
   },
   "file_extension": ".py",
   "mimetype": "text/x-python",
   "name": "python",
   "nbconvert_exporter": "python",
   "pygments_lexer": "ipython3",
   "version": "3.8.7"
  }
 },
 "nbformat": 4,
 "nbformat_minor": 5
}
